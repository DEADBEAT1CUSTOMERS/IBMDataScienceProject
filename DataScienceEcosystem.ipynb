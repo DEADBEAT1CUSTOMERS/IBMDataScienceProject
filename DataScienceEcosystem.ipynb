{
 "cells": [
  {
   "cell_type": "markdown",
   "id": "b2baef8a",
   "metadata": {},
   "source": [
    "# Data Science Tools and Ecosystem"
   ]
  },
  {
   "cell_type": "markdown",
   "id": "2d7d7e2f",
   "metadata": {},
   "source": [
    "## Author\n",
    "Simonlnwza007"
   ]
  },
  {
   "cell_type": "markdown",
   "id": "a90eca8f",
   "metadata": {},
   "source": [
    "In this notebook, we w'll show Data Science tools and Ecosystem.\n",
    "**Objective:**\n",
    "* List popular languages for Data Science\n",
    "* Common list of libraries used by Data Science\n",
    "* Data Science Tools\n",
    "* Below are a few examples of evaluating arithmetic expressions in Python\n",
    "* Simple arithmetic expression to mutiply then add integers"
   ]
  },
  {
   "cell_type": "markdown",
   "id": "28d13d46",
   "metadata": {},
   "source": [
    "Some of the popular languages that Data Scientists use are:  \n",
    "1.R  \n",
    "2.Python  \n",
    "3.SQL  \n",
    "4.Julia  "
   ]
  },
  {
   "cell_type": "markdown",
   "id": "a4dee09a",
   "metadata": {},
   "source": [
    "Common list of libraries used by Data Science:  \n",
    "1.TensorFlow  \n",
    "2.ggplot  \n",
    "3.NumPy  \n",
    "4.Pandas  \n",
    "5.PyTorch\n"
   ]
  },
  {
   "cell_type": "markdown",
   "id": "b52cc1db",
   "metadata": {},
   "source": [
    "|Data Sciencce Tools|\n",
    "|-------------------|\n",
    "|Apache Spark|\n",
    "|Rstudio|\n",
    "|Jypyter Notebook|"
   ]
  },
  {
   "cell_type": "markdown",
   "id": "b6151bc2",
   "metadata": {},
   "source": [
    "### Below are a few examples of evaluating arithmetic expressions in Python"
   ]
  },
  {
   "cell_type": "code",
   "execution_count": 1,
   "id": "4c0ca615",
   "metadata": {},
   "outputs": [
    {
     "data": {
      "text/plain": [
       "15"
      ]
     },
     "execution_count": 1,
     "metadata": {},
     "output_type": "execute_result"
    }
   ],
   "source": [
    "10 + 5"
   ]
  },
  {
   "cell_type": "code",
   "execution_count": 2,
   "id": "327893af",
   "metadata": {},
   "outputs": [
    {
     "data": {
      "text/plain": [
       "2"
      ]
     },
     "execution_count": 2,
     "metadata": {},
     "output_type": "execute_result"
    }
   ],
   "source": [
    "4-2"
   ]
  },
  {
   "cell_type": "code",
   "execution_count": 3,
   "id": "b432b6c7",
   "metadata": {},
   "outputs": [
    {
     "data": {
      "text/plain": [
       "20"
      ]
     },
     "execution_count": 3,
     "metadata": {},
     "output_type": "execute_result"
    }
   ],
   "source": [
    "4*5"
   ]
  },
  {
   "cell_type": "markdown",
   "id": "f353d2a6",
   "metadata": {},
   "source": [
    "This a simple arithmetic expression to mutiply then add integers"
   ]
  },
  {
   "cell_type": "code",
   "execution_count": 4,
   "id": "dddd886e",
   "metadata": {},
   "outputs": [
    {
     "data": {
      "text/plain": [
       "17"
      ]
     },
     "execution_count": 4,
     "metadata": {},
     "output_type": "execute_result"
    }
   ],
   "source": [
    "(3*4)+5"
   ]
  },
  {
   "cell_type": "markdown",
   "id": "4e9753c5",
   "metadata": {},
   "source": [
    "Thsi will convert 200 minutes to hours by diving by 60"
   ]
  },
  {
   "cell_type": "code",
   "execution_count": 11,
   "id": "80877319",
   "metadata": {},
   "outputs": [
    {
     "name": "stdout",
     "output_type": "stream",
     "text": [
      "3 hours and 20 Minutes\n"
     ]
    }
   ],
   "source": [
    "x = round(200/60)\n",
    "min = (200%60)\n",
    "\n",
    "print(f\"{x} hours and {min} Minutes\")"
   ]
  },
  {
   "cell_type": "code",
   "execution_count": null,
   "id": "c22c664c",
   "metadata": {},
   "outputs": [],
   "source": []
  }
 ],
 "metadata": {
  "kernelspec": {
   "display_name": "Python 3 (ipykernel)",
   "language": "python",
   "name": "python3"
  },
  "language_info": {
   "codemirror_mode": {
    "name": "ipython",
    "version": 3
   },
   "file_extension": ".py",
   "mimetype": "text/x-python",
   "name": "python",
   "nbconvert_exporter": "python",
   "pygments_lexer": "ipython3",
   "version": "3.9.13"
  }
 },
 "nbformat": 4,
 "nbformat_minor": 5
}
